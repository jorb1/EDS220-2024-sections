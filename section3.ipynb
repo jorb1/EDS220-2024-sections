{
 "cells": [
  {
   "cell_type": "markdown",
   "id": "a17f1b7e-2c96-41a0-9f71-bebfcefdc8b6",
   "metadata": {
    "tags": []
   },
   "source": [
    "![Snowshoe Hare](https://upload.wikimedia.org/wikipedia/commons/8/8a/SNOWSHOE_HARE_%28Lepus_americanus%29_%285-28-2015%29_quoddy_head%2C_washington_co%2C_maine_-01_%2818988734889%29.jpg)"
   ]
  },
  {
   "cell_type": "code",
   "execution_count": 2,
   "id": "29ec5671-6228-4ccc-a8ce-fa50fcdd10f9",
   "metadata": {
    "tags": []
   },
   "outputs": [],
   "source": [
    "import pandas as pd"
   ]
  },
  {
   "cell_type": "code",
   "execution_count": 3,
   "id": "8b5fd1d0-4b87-4486-893d-f7151b7faa0b",
   "metadata": {
    "tags": []
   },
   "outputs": [],
   "source": [
    "URL = \"https://portal.edirepository.org/nis/dataviewer?packageid=knb-lter-bnz.55.22&entityid=f01f5d71be949b8c700b6ecd1c42c701\"\n",
    "hares = pd.read_csv(URL)"
   ]
  },
  {
   "cell_type": "code",
   "execution_count": 13,
   "id": "7de5041f-9a24-47ba-8049-8542d3304c52",
   "metadata": {
    "tags": []
   },
   "outputs": [
    {
     "data": {
      "text/plain": [
       "<bound method DataFrame.nunique of             date      time    grid trap       l_ear r_ear  sex  age  weight  \\\n",
       "0     11/26/1998       NaN  bonrip   1A  414D096A08   NaN  NaN  NaN  1370.0   \n",
       "1     11/26/1998       NaN  bonrip   2C  414D320671   NaN    M  NaN  1430.0   \n",
       "2     11/26/1998       NaN  bonrip   2D  414D103E3A   NaN    M  NaN  1430.0   \n",
       "3     11/26/1998       NaN  bonrip   2E  414D262D43   NaN  NaN  NaN  1490.0   \n",
       "4     11/26/1998       NaN  bonrip   3B  414D2B4B58   NaN  NaN  NaN  1710.0   \n",
       "...          ...       ...     ...  ...         ...   ...  ...  ...     ...   \n",
       "3375    8/8/2002  18:00:00  bonrip  1b         1201  1202  NaN  NaN  1400.0   \n",
       "3376    8/8/2002   6:00:00  bonrip  4b         1201  1202  NaN  NaN     NaN   \n",
       "3377    8/7/2002       NaN  bonrip   4b        1217  1218  NaN  NaN  1000.0   \n",
       "3378    8/8/2002       NaN  bonrip   6d        1217  1218  NaN  NaN   990.0   \n",
       "3379    8/6/2002       NaN  bonrip   4b        1058  1060    M  NaN  1460.0   \n",
       "\n",
       "      hindft notes  b_key  session_id       study  \n",
       "0      160.0   NaN  917.0          51  Population  \n",
       "1        NaN   NaN  936.0          51  Population  \n",
       "2        NaN   NaN  921.0          51  Population  \n",
       "3      135.0   NaN  931.0          51  Population  \n",
       "4      150.0   NaN  933.0          51  Population  \n",
       "...      ...   ...    ...         ...         ...  \n",
       "3375     NaN   NaN   63.0          64  Population  \n",
       "3376     NaN   NaN   63.0          64  Population  \n",
       "3377   134.0   NaN   69.0          64  Population  \n",
       "3378     NaN   NaN   69.0          64  Population  \n",
       "3379   119.0   NaN   32.0          64  Population  \n",
       "\n",
       "[3380 rows x 14 columns]>"
      ]
     },
     "execution_count": 13,
     "metadata": {},
     "output_type": "execute_result"
    }
   ],
   "source": [
    "#What are the dimensions of the dataframe and what are the data types of the columns? Do the data types match what you would expect from each column?\n",
    "hares.shape\n",
    "hares.dtypes\n",
    "#Are there any columns that have a significant number of NA values?\n",
    "hares.isna\n",
    "#What are the minimum and maximum values for the weight and hind feet measurements?\n",
    "hares.min\n",
    "hares.max\n",
    "#What are the unique values for some of the categorical columns?\n",
    "hares.nunique\n",
    "#An explroatory question about the data frame you come up with!\n"
   ]
  },
  {
   "cell_type": "code",
   "execution_count": 26,
   "id": "4accdf65-3b6f-4f28-b3f6-b0ef6f4fd054",
   "metadata": {
    "tags": []
   },
   "outputs": [
    {
     "data": {
      "text/plain": [
       "array([nan, 'M', 'F', '?', 'F?', 'M?', 'pf', 'm', 'f', 'f?', 'm?', 'f ',\n",
       "       'm '], dtype=object)"
      ]
     },
     "execution_count": 26,
     "metadata": {},
     "output_type": "execute_result"
    }
   ],
   "source": [
    "#In the metadata section of the EDI repository, find which are the allowed values for the hares’ sex. Create a small table in a markdown cell showing the values and their definitions.\n",
    "hares['sex'].unique()\n",
    "#Get the number of times each unique sex non-NA value appears.\n",
    "hares['sex'].nunique()\n",
    "\n",
    "#Check the documentation of value_counts(). What is the purpose of the dropna parameter and what is its default value? Repeat step (a), this time adding the dropna=False parameter to value_counts().\n",
    "hares.value_counts()\n",
    "\n",
    "#Discuss with your team the output of the unique value counts. In particular:\n",
    "\n",
    "#Do the values in the sex column correspond to the values declared in the metadata?\n",
    "\n",
    "#What could have been potential causes for multiple codes?\n",
    "\n",
    "#Are there seemingly repated values? If so, what could be the cause?\n",
    "\n",
    "#Write code to confirm your suspicions about c-iii."
   ]
  },
  {
   "cell_type": "code",
   "execution_count": 29,
   "id": "dc4fe7f4-9f44-48c1-bcd4-b58f2c7f1a05",
   "metadata": {
    "tags": []
   },
   "outputs": [
    {
     "data": {
      "text/plain": [
       "F      1161\n",
       "M       730\n",
       "f       556\n",
       "m       515\n",
       "NaN     352\n",
       "?        40\n",
       "F?       10\n",
       "f         4\n",
       "m         4\n",
       "f?        3\n",
       "M?        2\n",
       "m?        2\n",
       "pf        1\n",
       "Name: sex, dtype: int64"
      ]
     },
     "execution_count": 29,
     "metadata": {},
     "output_type": "execute_result"
    }
   ],
   "source": [
    "#Check the documentation of value_counts(). What is the purpose of the dropna parameter and what is its default value? Repeat step (a), this time adding the dropna=False parameter to value_counts().\n",
    "hares['sex'].value_counts(dropna = False)"
   ]
  },
  {
   "cell_type": "code",
   "execution_count": 32,
   "id": "e0f37fdc-3dcc-4980-b916-4d8b8f32954f",
   "metadata": {
    "tags": []
   },
   "outputs": [
    {
     "ename": "IndentationError",
     "evalue": "unexpected indent (3634173807.py, line 3)",
     "output_type": "error",
     "traceback": [
      "\u001b[0;36m  File \u001b[0;32m\"/tmp/ipykernel_1745656/3634173807.py\"\u001b[0;36m, line \u001b[0;32m3\u001b[0m\n\u001b[0;31m    hares['sex'].isin(['M', 'm', 'm '])\u001b[0m\n\u001b[0m    ^\u001b[0m\n\u001b[0;31mIndentationError\u001b[0m\u001b[0;31m:\u001b[0m unexpected indent\n"
     ]
    }
   ],
   "source": [
    "#6: \n",
    "conditions=hares['sex'].isin(['F', 'f', 'f ']),\n",
    "            hares['sex'].isin(['M', 'm', 'm '])\n",
    "\n",
    "\n",
    "hares['sex_simple']=np.select(conditions, gender, default=np.nan)\n",
    "            \n",
    "print(hares['sex_simple'])"
   ]
  },
  {
   "cell_type": "code",
   "execution_count": null,
   "id": "27cfd77d-ce2d-4165-be55-1a793440d99a",
   "metadata": {},
   "outputs": [],
   "source": [
    "hares.groupby('sex_simple').weight.mean()"
   ]
  }
 ],
 "metadata": {
  "kernelspec": {
   "display_name": "Anaconda 3 (Base)",
   "language": "python",
   "name": "base"
  },
  "language_info": {
   "codemirror_mode": {
    "name": "ipython",
    "version": 3
   },
   "file_extension": ".py",
   "mimetype": "text/x-python",
   "name": "python",
   "nbconvert_exporter": "python",
   "pygments_lexer": "ipython3",
   "version": "3.9.13"
  }
 },
 "nbformat": 4,
 "nbformat_minor": 5
}
