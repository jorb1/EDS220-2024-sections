{
 "cells": [
  {
   "cell_type": "code",
   "execution_count": 1,
   "id": "e4ea0a91-b02c-4260-af19-3a03f4a9eeaf",
   "metadata": {
    "tags": []
   },
   "outputs": [],
   "source": [
    "import pandas as pd\n",
    "df = pd.read_csv(\"~/MEDS/EDS-220/EDS220-2024-sections/data/Colorado River Basin Water Conflict Table.csv\")"
   ]
  },
  {
   "cell_type": "code",
   "execution_count": 2,
   "id": "9d71b76d-e5ef-43b4-928f-ed74c4e1bcac",
   "metadata": {
    "tags": []
   },
   "outputs": [
    {
     "data": {
      "text/html": [
       "<div>\n",
       "<style scoped>\n",
       "    .dataframe tbody tr th:only-of-type {\n",
       "        vertical-align: middle;\n",
       "    }\n",
       "\n",
       "    .dataframe tbody tr th {\n",
       "        vertical-align: top;\n",
       "    }\n",
       "\n",
       "    .dataframe thead th {\n",
       "        text-align: right;\n",
       "    }\n",
       "</style>\n",
       "<table border=\"1\" class=\"dataframe\">\n",
       "  <thead>\n",
       "    <tr style=\"text-align: right;\">\n",
       "      <th></th>\n",
       "      <th>Event</th>\n",
       "      <th>Search Source</th>\n",
       "      <th>Newspaper</th>\n",
       "      <th>Article Title</th>\n",
       "      <th>Duplicate</th>\n",
       "      <th>Report Date</th>\n",
       "      <th>Report Year</th>\n",
       "      <th>Event Date</th>\n",
       "      <th>Event Day</th>\n",
       "      <th>Event Month</th>\n",
       "      <th>...</th>\n",
       "      <th>Article Text Search - water rights</th>\n",
       "      <th>Article Text Search - intergovernmental</th>\n",
       "      <th>Article Text Search - water transfers</th>\n",
       "      <th>Article Text Search - navigation</th>\n",
       "      <th>Article Text Search - fish</th>\n",
       "      <th>Article Text Search - invasive</th>\n",
       "      <th>Article Text Search - diversion</th>\n",
       "      <th>Article Text Search - water diversion</th>\n",
       "      <th>Article Text Search - instream</th>\n",
       "      <th>Article Text Search - aquatic</th>\n",
       "    </tr>\n",
       "  </thead>\n",
       "  <tbody>\n",
       "    <tr>\n",
       "      <th>0</th>\n",
       "      <td>1</td>\n",
       "      <td>USGS1-50.docx</td>\n",
       "      <td>The Durango Herald (Colorado)</td>\n",
       "      <td>Tribes assert water rights on Colorado River B...</td>\n",
       "      <td>False</td>\n",
       "      <td>7-Apr-22</td>\n",
       "      <td>2022.0</td>\n",
       "      <td>NaN</td>\n",
       "      <td>NaN</td>\n",
       "      <td>4.0</td>\n",
       "      <td>...</td>\n",
       "      <td>17</td>\n",
       "      <td>0</td>\n",
       "      <td>0</td>\n",
       "      <td>0</td>\n",
       "      <td>0</td>\n",
       "      <td>0</td>\n",
       "      <td>0</td>\n",
       "      <td>0</td>\n",
       "      <td>0</td>\n",
       "      <td>0</td>\n",
       "    </tr>\n",
       "    <tr>\n",
       "      <th>1</th>\n",
       "      <td>2</td>\n",
       "      <td>USGS1-50.docx</td>\n",
       "      <td>Journal, The (Cortez, Dolores, Mancos, CO)</td>\n",
       "      <td>Native American tribes assert water rights on ...</td>\n",
       "      <td>False</td>\n",
       "      <td>7-Apr-22</td>\n",
       "      <td>2022.0</td>\n",
       "      <td>NaN</td>\n",
       "      <td>NaN</td>\n",
       "      <td>4.0</td>\n",
       "      <td>...</td>\n",
       "      <td>17</td>\n",
       "      <td>0</td>\n",
       "      <td>0</td>\n",
       "      <td>0</td>\n",
       "      <td>0</td>\n",
       "      <td>0</td>\n",
       "      <td>0</td>\n",
       "      <td>0</td>\n",
       "      <td>0</td>\n",
       "      <td>0</td>\n",
       "    </tr>\n",
       "    <tr>\n",
       "      <th>2</th>\n",
       "      <td>3</td>\n",
       "      <td>USGS1-50.docx</td>\n",
       "      <td>The Salt Lake Tribune</td>\n",
       "      <td>'Very positive change.' New Utah law will be a...</td>\n",
       "      <td>False</td>\n",
       "      <td>17-Mar-22</td>\n",
       "      <td>2022.0</td>\n",
       "      <td>NaN</td>\n",
       "      <td>NaN</td>\n",
       "      <td>3.0</td>\n",
       "      <td>...</td>\n",
       "      <td>12</td>\n",
       "      <td>0</td>\n",
       "      <td>0</td>\n",
       "      <td>0</td>\n",
       "      <td>1</td>\n",
       "      <td>0</td>\n",
       "      <td>0</td>\n",
       "      <td>0</td>\n",
       "      <td>12</td>\n",
       "      <td>1</td>\n",
       "    </tr>\n",
       "    <tr>\n",
       "      <th>3</th>\n",
       "      <td>4</td>\n",
       "      <td>USGS1-50.docx</td>\n",
       "      <td>Casa Grande Dispatch (AZ)</td>\n",
       "      <td>Legislation would let an Arizona tribe lease C...</td>\n",
       "      <td>False</td>\n",
       "      <td>11-Dec-21</td>\n",
       "      <td>2021.0</td>\n",
       "      <td>NaN</td>\n",
       "      <td>NaN</td>\n",
       "      <td>12.0</td>\n",
       "      <td>...</td>\n",
       "      <td>6</td>\n",
       "      <td>0</td>\n",
       "      <td>0</td>\n",
       "      <td>0</td>\n",
       "      <td>0</td>\n",
       "      <td>0</td>\n",
       "      <td>0</td>\n",
       "      <td>0</td>\n",
       "      <td>0</td>\n",
       "      <td>0</td>\n",
       "    </tr>\n",
       "    <tr>\n",
       "      <th>4</th>\n",
       "      <td>5</td>\n",
       "      <td>USGS1-50.docx</td>\n",
       "      <td>The Aspen Times (Colorado)</td>\n",
       "      <td>Historically excluded from Colorado River poli...</td>\n",
       "      <td>False</td>\n",
       "      <td>19-Dec-21</td>\n",
       "      <td>2021.0</td>\n",
       "      <td>NaN</td>\n",
       "      <td>NaN</td>\n",
       "      <td>11.0</td>\n",
       "      <td>...</td>\n",
       "      <td>18</td>\n",
       "      <td>0</td>\n",
       "      <td>0</td>\n",
       "      <td>0</td>\n",
       "      <td>0</td>\n",
       "      <td>0</td>\n",
       "      <td>0</td>\n",
       "      <td>0</td>\n",
       "      <td>0</td>\n",
       "      <td>0</td>\n",
       "    </tr>\n",
       "    <tr>\n",
       "      <th>...</th>\n",
       "      <td>...</td>\n",
       "      <td>...</td>\n",
       "      <td>...</td>\n",
       "      <td>...</td>\n",
       "      <td>...</td>\n",
       "      <td>...</td>\n",
       "      <td>...</td>\n",
       "      <td>...</td>\n",
       "      <td>...</td>\n",
       "      <td>...</td>\n",
       "      <td>...</td>\n",
       "      <td>...</td>\n",
       "      <td>...</td>\n",
       "      <td>...</td>\n",
       "      <td>...</td>\n",
       "      <td>...</td>\n",
       "      <td>...</td>\n",
       "      <td>...</td>\n",
       "      <td>...</td>\n",
       "      <td>...</td>\n",
       "      <td>...</td>\n",
       "    </tr>\n",
       "    <tr>\n",
       "      <th>263</th>\n",
       "      <td>264</td>\n",
       "      <td>USGS301-350.docx</td>\n",
       "      <td>The Durango Herald (Colorado)</td>\n",
       "      <td>Water officials consider action for worst case...</td>\n",
       "      <td>False</td>\n",
       "      <td>9-Jun-09</td>\n",
       "      <td>2019.0</td>\n",
       "      <td>6</td>\n",
       "      <td>NaN</td>\n",
       "      <td>6.0</td>\n",
       "      <td>...</td>\n",
       "      <td>3</td>\n",
       "      <td>0</td>\n",
       "      <td>0</td>\n",
       "      <td>0</td>\n",
       "      <td>0</td>\n",
       "      <td>0</td>\n",
       "      <td>0</td>\n",
       "      <td>0</td>\n",
       "      <td>0</td>\n",
       "      <td>0</td>\n",
       "    </tr>\n",
       "    <tr>\n",
       "      <th>264</th>\n",
       "      <td>265</td>\n",
       "      <td>USGS301-350.docx</td>\n",
       "      <td>Rio Blanco Herald Times (Meeker, Colorado)</td>\n",
       "      <td>Rangely hosts Colorado River District event</td>\n",
       "      <td>False</td>\n",
       "      <td>21-Apr-22</td>\n",
       "      <td>2022.0</td>\n",
       "      <td>4/13/2022</td>\n",
       "      <td>13.0</td>\n",
       "      <td>4.0</td>\n",
       "      <td>...</td>\n",
       "      <td>3</td>\n",
       "      <td>0</td>\n",
       "      <td>0</td>\n",
       "      <td>0</td>\n",
       "      <td>0</td>\n",
       "      <td>1</td>\n",
       "      <td>1</td>\n",
       "      <td>0</td>\n",
       "      <td>0</td>\n",
       "      <td>0</td>\n",
       "    </tr>\n",
       "    <tr>\n",
       "      <th>265</th>\n",
       "      <td>266</td>\n",
       "      <td>USGS301-350.docx</td>\n",
       "      <td>Casa Grande Dispatch (AZ)</td>\n",
       "      <td>California water district lawsuit threatens dr...</td>\n",
       "      <td>False</td>\n",
       "      <td>18-Apr-19</td>\n",
       "      <td>2019.0</td>\n",
       "      <td>4</td>\n",
       "      <td>NaN</td>\n",
       "      <td>4.0</td>\n",
       "      <td>...</td>\n",
       "      <td>2</td>\n",
       "      <td>0</td>\n",
       "      <td>0</td>\n",
       "      <td>0</td>\n",
       "      <td>0</td>\n",
       "      <td>0</td>\n",
       "      <td>0</td>\n",
       "      <td>0</td>\n",
       "      <td>0</td>\n",
       "      <td>0</td>\n",
       "    </tr>\n",
       "    <tr>\n",
       "      <th>266</th>\n",
       "      <td>267</td>\n",
       "      <td>USGS301-350.docx</td>\n",
       "      <td>The Salt Lake Tribune</td>\n",
       "      <td>Scientists want to flush water past Glen Canyo...</td>\n",
       "      <td>False</td>\n",
       "      <td>13-Dec-07</td>\n",
       "      <td>2007.0</td>\n",
       "      <td>12</td>\n",
       "      <td>NaN</td>\n",
       "      <td>12.0</td>\n",
       "      <td>...</td>\n",
       "      <td>0</td>\n",
       "      <td>0</td>\n",
       "      <td>0</td>\n",
       "      <td>0</td>\n",
       "      <td>0</td>\n",
       "      <td>2</td>\n",
       "      <td>0</td>\n",
       "      <td>0</td>\n",
       "      <td>0</td>\n",
       "      <td>0</td>\n",
       "    </tr>\n",
       "    <tr>\n",
       "      <th>267</th>\n",
       "      <td>268</td>\n",
       "      <td>USGS301-350.docx</td>\n",
       "      <td>Casa Grande Dispatch (AZ)</td>\n",
       "      <td>Arizona plan could devastate Pinal farmers</td>\n",
       "      <td>NaN</td>\n",
       "      <td>2-Feb-19</td>\n",
       "      <td>2019.0</td>\n",
       "      <td>1/31/2019</td>\n",
       "      <td>31.0</td>\n",
       "      <td>1.0</td>\n",
       "      <td>...</td>\n",
       "      <td>2</td>\n",
       "      <td>0</td>\n",
       "      <td>0</td>\n",
       "      <td>0</td>\n",
       "      <td>0</td>\n",
       "      <td>0</td>\n",
       "      <td>0</td>\n",
       "      <td>0</td>\n",
       "      <td>0</td>\n",
       "      <td>0</td>\n",
       "    </tr>\n",
       "  </tbody>\n",
       "</table>\n",
       "<p>268 rows × 48 columns</p>\n",
       "</div>"
      ],
      "text/plain": [
       "     Event     Search Source                                   Newspaper  \\\n",
       "0        1     USGS1-50.docx               The Durango Herald (Colorado)   \n",
       "1        2     USGS1-50.docx  Journal, The (Cortez, Dolores, Mancos, CO)   \n",
       "2        3     USGS1-50.docx                       The Salt Lake Tribune   \n",
       "3        4     USGS1-50.docx                   Casa Grande Dispatch (AZ)   \n",
       "4        5     USGS1-50.docx                  The Aspen Times (Colorado)   \n",
       "..     ...               ...                                         ...   \n",
       "263    264  USGS301-350.docx               The Durango Herald (Colorado)   \n",
       "264    265  USGS301-350.docx  Rio Blanco Herald Times (Meeker, Colorado)   \n",
       "265    266  USGS301-350.docx                   Casa Grande Dispatch (AZ)   \n",
       "266    267  USGS301-350.docx                       The Salt Lake Tribune   \n",
       "267    268  USGS301-350.docx                   Casa Grande Dispatch (AZ)   \n",
       "\n",
       "                                         Article Title Duplicate Report Date  \\\n",
       "0    Tribes assert water rights on Colorado River B...     False    7-Apr-22   \n",
       "1    Native American tribes assert water rights on ...     False    7-Apr-22   \n",
       "2    'Very positive change.' New Utah law will be a...     False   17-Mar-22   \n",
       "3    Legislation would let an Arizona tribe lease C...     False   11-Dec-21   \n",
       "4    Historically excluded from Colorado River poli...     False   19-Dec-21   \n",
       "..                                                 ...       ...         ...   \n",
       "263  Water officials consider action for worst case...     False    9-Jun-09   \n",
       "264        Rangely hosts Colorado River District event     False   21-Apr-22   \n",
       "265  California water district lawsuit threatens dr...     False   18-Apr-19   \n",
       "266  Scientists want to flush water past Glen Canyo...     False   13-Dec-07   \n",
       "267         Arizona plan could devastate Pinal farmers       NaN    2-Feb-19   \n",
       "\n",
       "     Report Year Event Date  Event Day  Event Month  ...  \\\n",
       "0         2022.0        NaN        NaN          4.0  ...   \n",
       "1         2022.0        NaN        NaN          4.0  ...   \n",
       "2         2022.0        NaN        NaN          3.0  ...   \n",
       "3         2021.0        NaN        NaN         12.0  ...   \n",
       "4         2021.0        NaN        NaN         11.0  ...   \n",
       "..           ...        ...        ...          ...  ...   \n",
       "263       2019.0          6        NaN          6.0  ...   \n",
       "264       2022.0  4/13/2022       13.0          4.0  ...   \n",
       "265       2019.0          4        NaN          4.0  ...   \n",
       "266       2007.0         12        NaN         12.0  ...   \n",
       "267       2019.0  1/31/2019       31.0          1.0  ...   \n",
       "\n",
       "     Article Text Search - water rights  \\\n",
       "0                                    17   \n",
       "1                                    17   \n",
       "2                                    12   \n",
       "3                                     6   \n",
       "4                                    18   \n",
       "..                                  ...   \n",
       "263                                   3   \n",
       "264                                   3   \n",
       "265                                   2   \n",
       "266                                   0   \n",
       "267                                   2   \n",
       "\n",
       "    Article Text Search - intergovernmental  \\\n",
       "0                                         0   \n",
       "1                                         0   \n",
       "2                                         0   \n",
       "3                                         0   \n",
       "4                                         0   \n",
       "..                                      ...   \n",
       "263                                       0   \n",
       "264                                       0   \n",
       "265                                       0   \n",
       "266                                       0   \n",
       "267                                       0   \n",
       "\n",
       "    Article Text Search - water transfers Article Text Search - navigation  \\\n",
       "0                                       0                                0   \n",
       "1                                       0                                0   \n",
       "2                                       0                                0   \n",
       "3                                       0                                0   \n",
       "4                                       0                                0   \n",
       "..                                    ...                              ...   \n",
       "263                                     0                                0   \n",
       "264                                     0                                0   \n",
       "265                                     0                                0   \n",
       "266                                     0                                0   \n",
       "267                                     0                                0   \n",
       "\n",
       "    Article Text Search - fish Article Text Search - invasive  \\\n",
       "0                            0                              0   \n",
       "1                            0                              0   \n",
       "2                            1                              0   \n",
       "3                            0                              0   \n",
       "4                            0                              0   \n",
       "..                         ...                            ...   \n",
       "263                          0                              0   \n",
       "264                          0                              1   \n",
       "265                          0                              0   \n",
       "266                          0                              2   \n",
       "267                          0                              0   \n",
       "\n",
       "    Article Text Search - diversion Article Text Search - water diversion  \\\n",
       "0                                 0                                     0   \n",
       "1                                 0                                     0   \n",
       "2                                 0                                     0   \n",
       "3                                 0                                     0   \n",
       "4                                 0                                     0   \n",
       "..                              ...                                   ...   \n",
       "263                               0                                     0   \n",
       "264                               1                                     0   \n",
       "265                               0                                     0   \n",
       "266                               0                                     0   \n",
       "267                               0                                     0   \n",
       "\n",
       "     Article Text Search - instream Article Text Search - aquatic  \n",
       "0                                 0                             0  \n",
       "1                                 0                             0  \n",
       "2                                12                             1  \n",
       "3                                 0                             0  \n",
       "4                                 0                             0  \n",
       "..                              ...                           ...  \n",
       "263                               0                             0  \n",
       "264                               0                             0  \n",
       "265                               0                             0  \n",
       "266                               0                             0  \n",
       "267                               0                             0  \n",
       "\n",
       "[268 rows x 48 columns]"
      ]
     },
     "execution_count": 2,
     "metadata": {},
     "output_type": "execute_result"
    }
   ],
   "source": [
    "df"
   ]
  },
  {
   "cell_type": "markdown",
   "id": "01391c48-d3eb-443d-81de-6f03ebc9e5e4",
   "metadata": {
    "tags": []
   },
   "source": [
    "# 3. Prelimary data exploration"
   ]
  },
  {
   "cell_type": "code",
   "execution_count": null,
   "id": "72f0a52b-c37d-459e-8996-5dbbfe66dce0",
   "metadata": {},
   "outputs": [],
   "source": []
  },
  {
   "cell_type": "markdown",
   "id": "f9ab2f57-531b-41f2-9396-ba06488e35cc",
   "metadata": {},
   "source": [
    "# 5. String accessor for pandas.Series"
   ]
  },
  {
   "cell_type": "code",
   "execution_count": 3,
   "id": "481eb5f1-b6d1-4cc1-9563-f5ff9eb83d4b",
   "metadata": {
    "tags": []
   },
   "outputs": [
    {
     "data": {
      "text/plain": [
       "0    California; Nevada\n",
       "1               Arizona\n",
       "2                   NaN\n",
       "3          Nevada; Utah\n",
       "dtype: object"
      ]
     },
     "execution_count": 3,
     "metadata": {},
     "output_type": "execute_result"
    }
   ],
   "source": [
    "import numpy as np\n",
    "import pandas as pd \n",
    "\n",
    "# Example series\n",
    "s = pd.Series(['California; Nevada', 'Arizona', np.nan, 'Nevada; Utah'])\n",
    "s"
   ]
  },
  {
   "cell_type": "code",
   "execution_count": 4,
   "id": "b44a274c-9c18-4c0e-8419-a802e19bd569",
   "metadata": {
    "tags": []
   },
   "outputs": [
    {
     "data": {
      "text/plain": [
       "<pandas.core.strings.accessor.StringMethods at 0x7f687453b640>"
      ]
     },
     "execution_count": 4,
     "metadata": {},
     "output_type": "execute_result"
    }
   ],
   "source": [
    "# str accessor (doesn't do anything by itself)\n",
    "s.str"
   ]
  },
  {
   "cell_type": "code",
   "execution_count": 5,
   "id": "6b165b53-cae2-482b-8155-9f5ea5c35255",
   "metadata": {
    "tags": []
   },
   "outputs": [
    {
     "data": {
      "text/html": [
       "<div>\n",
       "<style scoped>\n",
       "    .dataframe tbody tr th:only-of-type {\n",
       "        vertical-align: middle;\n",
       "    }\n",
       "\n",
       "    .dataframe tbody tr th {\n",
       "        vertical-align: top;\n",
       "    }\n",
       "\n",
       "    .dataframe thead th {\n",
       "        text-align: right;\n",
       "    }\n",
       "</style>\n",
       "<table border=\"1\" class=\"dataframe\">\n",
       "  <thead>\n",
       "    <tr style=\"text-align: right;\">\n",
       "      <th></th>\n",
       "      <th>0</th>\n",
       "      <th>1</th>\n",
       "    </tr>\n",
       "  </thead>\n",
       "  <tbody>\n",
       "    <tr>\n",
       "      <th>0</th>\n",
       "      <td>California</td>\n",
       "      <td>Nevada</td>\n",
       "    </tr>\n",
       "    <tr>\n",
       "      <th>1</th>\n",
       "      <td>Arizona</td>\n",
       "      <td>None</td>\n",
       "    </tr>\n",
       "    <tr>\n",
       "      <th>2</th>\n",
       "      <td>NaN</td>\n",
       "      <td>NaN</td>\n",
       "    </tr>\n",
       "    <tr>\n",
       "      <th>3</th>\n",
       "      <td>Nevada</td>\n",
       "      <td>Utah</td>\n",
       "    </tr>\n",
       "  </tbody>\n",
       "</table>\n",
       "</div>"
      ],
      "text/plain": [
       "            0        1\n",
       "0  California   Nevada\n",
       "1     Arizona     None\n",
       "2         NaN      NaN\n",
       "3      Nevada     Utah"
      ]
     },
     "execution_count": 5,
     "metadata": {},
     "output_type": "execute_result"
    }
   ],
   "source": [
    "# Use str accessor with additional methods to perform string operations\n",
    "# .split splits strings by ';' and expands output into separate columns\n",
    "s.str.split(';', expand=True)"
   ]
  },
  {
   "cell_type": "code",
   "execution_count": 6,
   "id": "229341a5-979c-4936-9152-829eadd15995",
   "metadata": {
    "tags": []
   },
   "outputs": [
    {
     "data": {
      "text/plain": [
       "0  0    California\n",
       "   1        Nevada\n",
       "1  0       Arizona\n",
       "3  0        Nevada\n",
       "   1          Utah\n",
       "dtype: object"
      ]
     },
     "execution_count": 6,
     "metadata": {},
     "output_type": "execute_result"
    }
   ],
   "source": [
    "# Use stack() method to flatten the data frame into a series\n",
    "# default is to drop NAs and None from result\n",
    "s.str.split(';', expand=True).stack()"
   ]
  },
  {
   "cell_type": "markdown",
   "id": "40396233-54be-4dc3-8bbc-ced4342f1e13",
   "metadata": {},
   "source": [
    "# 6. Examine state codes"
   ]
  },
  {
   "cell_type": "code",
   "execution_count": 7,
   "id": "020cb2fc-0c2b-468f-8047-b8f296857bb8",
   "metadata": {
    "tags": []
   },
   "outputs": [
    {
     "data": {
      "text/plain": [
       "array(['CO', 'UT', nan, 'AZ', 'OH; UT', 'AZ; CO; NM; UT', 'CA', 'AZ; UT',\n",
       "       'AZ; NV', 'CO; UT; WY; NM', 'AZ; CA', 'UT; AZ', 'CO; WY', 'NV; AZ',\n",
       "       'CO; AZ', 'AZ; CA; CO; NV; NM; UT; WY', 'AZ; CA; NV', 'NV', 'NM',\n",
       "       'UT; CO; WY', 'CA; NV; AZ', 'AZ; NM', 'WY; UT; CO', 'TX'],\n",
       "      dtype=object)"
      ]
     },
     "execution_count": 7,
     "metadata": {},
     "output_type": "execute_result"
    }
   ],
   "source": [
    "df['State'].unique()"
   ]
  },
  {
   "cell_type": "code",
   "execution_count": 8,
   "id": "4a110210-06af-433a-b850-67d9578904f7",
   "metadata": {
    "tags": []
   },
   "outputs": [
    {
     "data": {
      "text/plain": [
       "23"
      ]
     },
     "execution_count": 8,
     "metadata": {},
     "output_type": "execute_result"
    }
   ],
   "source": [
    "df['State'].nunique() # There are 23 unique elements"
   ]
  },
  {
   "cell_type": "code",
   "execution_count": 23,
   "id": "e57c2f38-efe6-44ab-b123-cef65e93b635",
   "metadata": {
    "tags": []
   },
   "outputs": [
    {
     "data": {
      "text/plain": [
       "array(['CO', 'UT', 'AZ', 'OH', 'NM', 'CA', 'NV', 'WY', 'TX'], dtype=object)"
      ]
     },
     "execution_count": 23,
     "metadata": {},
     "output_type": "execute_result"
    }
   ],
   "source": [
    "# We need to string detect\n",
    "\n",
    "states = df['State'].str.split(';', expand=True).stack().str.strip().unique()\n",
    "\n",
    "states"
   ]
  },
  {
   "cell_type": "code",
   "execution_count": 25,
   "id": "8fb92a12-be2b-4030-8f09-afde0c326cb4",
   "metadata": {
    "tags": []
   },
   "outputs": [
    {
     "data": {
      "text/plain": [
       "AZ    87\n",
       "CO    45\n",
       "UT    40\n",
       "NV    19\n",
       "CA    16\n",
       "NM    13\n",
       "WY     8\n",
       "OH     1\n",
       "TX     1\n",
       "dtype: int64"
      ]
     },
     "execution_count": 25,
     "metadata": {},
     "output_type": "execute_result"
    }
   ],
   "source": [
    "states = df['State'].str.split(';', expand=True).stack().str.strip().value_counts()\n",
    "states"
   ]
  },
  {
   "cell_type": "markdown",
   "id": "eec32517-597d-4082-9394-e3fa0f6b074b",
   "metadata": {},
   "source": [
    "# 8. Exploratory wrangling "
   ]
  },
  {
   "cell_type": "code",
   "execution_count": null,
   "id": "b665732b-17d4-4723-b4f4-b866a8815959",
   "metadata": {},
   "outputs": [],
   "source": []
  }
 ],
 "metadata": {
  "kernelspec": {
   "display_name": "Anaconda 3 (Base)",
   "language": "python",
   "name": "base"
  },
  "language_info": {
   "codemirror_mode": {
    "name": "ipython",
    "version": 3
   },
   "file_extension": ".py",
   "mimetype": "text/x-python",
   "name": "python",
   "nbconvert_exporter": "python",
   "pygments_lexer": "ipython3",
   "version": "3.9.13"
  }
 },
 "nbformat": 4,
 "nbformat_minor": 5
}
